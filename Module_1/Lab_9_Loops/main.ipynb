{
 "cells": [
  {
   "cell_type": "markdown",
   "metadata": {},
   "source": [
    "# Loops\n",
    "\n",
    "Complete the following set of exercises to solidify your knowledge for Loops."
   ]
  },
  {
   "cell_type": "markdown",
   "metadata": {},
   "source": [
    "#### 1. Print first 10 natural numbers using while loop"
   ]
  },
  {
   "cell_type": "code",
   "execution_count": null,
   "metadata": {},
   "outputs": [],
   "source": [
    "for i in range(1,11):\n",
    "    print(i)"
   ]
  },
  {
   "cell_type": "markdown",
   "metadata": {},
   "source": [
    "#### 2. Display numbers from a list using loop\n",
    "Write a program to display only those numbers from a list that satisfy the following conditions\n",
    "\n",
    "The number must be divisible by five\n",
    "\n",
    "If the number is greater than 150, then skip it and move to the next number\n",
    "\n",
    "If the number is greater than 500, then stop the loop\n",
    "\n",
    "numbers = [12, 75, 150, 180, 145, 525, 50]"
   ]
  },
  {
   "cell_type": "code",
   "execution_count": null,
   "metadata": {},
   "outputs": [],
   "source": [
    "for i in numbers:\n",
    "    if i>500:\n",
    "        break\n",
    "    elif i>150:\n",
    "        continue\n",
    "    elif i%5 == 0:\n",
    "        print(i)"
   ]
  },
  {
   "cell_type": "markdown",
   "metadata": {},
   "source": [
    "#### 3.Write a Python program to check the validity of a password (input from users).\n",
    "\n",
    "Validation :\n",
    "\n",
    "At least 1 letter between [a-z] and 1 letter between [A-Z].\n",
    "\n",
    "At least 1 number between [0-9].\n",
    "\n",
    "At least 1 character from [$#@].\n",
    "\n",
    "Minimum length 6 characters.\n",
    "\n",
    "Maximum length 16 characters."
   ]
  },
  {
   "cell_type": "code",
   "execution_count": null,
   "metadata": {},
   "outputs": [],
   "source": [
    "def password_check():\n",
    "    import re\n",
    "    \n",
    "    password = str(input(\"Enter a password to check : \"))\n",
    "\n",
    "#1 letter between [a-z]  \n",
    "    pattern_lowletter = \"[a-z]\"\n",
    "#1 letter between [A-Z]\n",
    "    pattern_capletter = \"[A-Z]\"\n",
    "#1 digit\n",
    "    pattern_figure = \"[0-9]\"\n",
    "#size between 6 and 16\n",
    "    length = len(password)\n",
    "#special characters\n",
    "    pattern_special = \"[$#@]\"\n",
    "    \n",
    "    if bool(re.search(pattern_lowletter, password)) is True and bool(re.search(pattern_capletter, password)) is True and bool(re.search(pattern_figure, password)) is True and bool(re.search(pattern_special, password)) is True and length >=6 and length<=16:\n",
    "        return \"Password meets all criteria\"\n",
    "    else:\n",
    "        return \"Password fails in at least one criteria\""
   ]
  },
  {
   "cell_type": "markdown",
   "metadata": {},
   "source": [
    "#### 4. Break the loop when x is 6, and see what happens with the else block"
   ]
  },
  {
   "cell_type": "code",
   "execution_count": null,
   "metadata": {},
   "outputs": [],
   "source": [
    "for i in range(1,11):\n",
    "    print(i)\n",
    "    if i == 6:\n",
    "        break\n",
    "\n",
    "#it stops the loop, and doesn't print the 7, 8, 9, 10."
   ]
  },
  {
   "cell_type": "markdown",
   "metadata": {},
   "source": [
    "#### 5. Write a Python program to calculate the sum and average of n integer numbers (input from the user). Input 0 to finish.\n"
   ]
  },
  {
   "cell_type": "code",
   "execution_count": null,
   "metadata": {},
   "outputs": [],
   "source": [
    "#### 5. Write a Python program to calculate \n",
    "#### the sum and average of n integer numbers (input from the user).\n",
    "#### Input 0 to finish.\n",
    "\n",
    "def sum_avg():\n",
    "    #users enters any number of values\n",
    "    n=input(\"Enter numbers separated by a space : \")\n",
    "    #we split the number\n",
    "    n = n.split()\n",
    "    #we create an empty list where we will put the str transform to float\n",
    "    new_list = []\n",
    "    \n",
    "    \n",
    "    #a loop to append the float numbers in new_list\n",
    "    for i in n:\n",
    "        new_list.append(float(i))\n",
    "        \n",
    "    sum_n = float()\n",
    "    avg_n = float()\n",
    "    \n",
    "    for i in new_list:\n",
    "        sum_n = sum_n +i\n",
    "    \n",
    "    avg_n = sum_n / len(new_list)\n",
    "    \n",
    "    print(\"Sum is \", sum_n, \".\")\n",
    "    print(\"Average is \", avg_n, \".\")\n",
    "    "
   ]
  }
 ],
 "metadata": {
  "kernelspec": {
   "display_name": "Python 3",
   "language": "python",
   "name": "python3"
  },
  "language_info": {
   "codemirror_mode": {
    "name": "ipython",
    "version": 3
   },
   "file_extension": ".py",
   "mimetype": "text/x-python",
   "name": "python",
   "nbconvert_exporter": "python",
   "pygments_lexer": "ipython3",
   "version": "3.7.4"
  }
 },
 "nbformat": 4,
 "nbformat_minor": 2
}
