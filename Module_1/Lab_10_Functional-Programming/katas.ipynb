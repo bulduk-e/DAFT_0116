{
 "cells": [
  {
   "cell_type": "code",
   "execution_count": 6,
   "id": "9bede99f",
   "metadata": {},
   "outputs": [],
   "source": [
    "# Counting sheeps\n",
    "sheep = \"[true,  true,  true,  false, true,  true,  true,  true , true,  false, true,  false,  true,  false, false, true , true,  true,  true,  true ,  false, false, true,  true]\"\n",
    "sheep.count('true')"
   ]
  },
  {
   "cell_type": "code",
   "execution_count": 70,
   "id": "fec388c6",
   "metadata": {},
   "outputs": [],
   "source": [
    "#Remove elements\n",
    "\n",
    "def removeEveryOther(arr):\n",
    "    del arr[1::2]\n",
    "    return arr\n",
    " "
   ]
  },
  {
   "cell_type": "code",
   "execution_count": 71,
   "id": "d93bdfcb",
   "metadata": {},
   "outputs": [],
   "source": [
    "a = [\"Keep\", \"Remove\", \"Keep\", \"Remove\", \"Keep\"] "
   ]
  },
  {
   "cell_type": "code",
   "execution_count": 72,
   "id": "33f7e0b0",
   "metadata": {},
   "outputs": [
    {
     "data": {
      "text/plain": [
       "['Keep', 'Keep', 'Keep']"
      ]
     },
     "execution_count": 72,
     "metadata": {},
     "output_type": "execute_result"
    }
   ],
   "source": [
    "removeEveryOther(a)"
   ]
  },
  {
   "cell_type": "code",
   "execution_count": null,
   "id": "18994823",
   "metadata": {},
   "outputs": [],
   "source": [
    "#convert number to reversed array of digits"
   ]
  },
  {
   "cell_type": "code",
   "execution_count": 99,
   "id": "1008503b",
   "metadata": {},
   "outputs": [],
   "source": [
    "def convert():\n",
    "    x = int(input(\"Enter a number : \"))\n",
    "    \n",
    "    xstr = str(x)\n",
    "    pattern=\"[0-9]\"\n",
    "    \n",
    "    import re\n",
    "    arr = re.findall(pattern, xstr)\n",
    "    \n",
    "    reverse = []\n",
    "    for i in arr:\n",
    "        reverse = arr[len(arr)::-1]\n",
    "        \n",
    "    return reverse"
   ]
  },
  {
   "cell_type": "code",
   "execution_count": 100,
   "id": "fde05e29",
   "metadata": {},
   "outputs": [
    {
     "name": "stdout",
     "output_type": "stream",
     "text": [
      "Enter a number : 3993\n"
     ]
    },
    {
     "data": {
      "text/plain": [
       "['3', '9', '9', '3']"
      ]
     },
     "execution_count": 100,
     "metadata": {},
     "output_type": "execute_result"
    }
   ],
   "source": [
    "convert()"
   ]
  },
  {
   "cell_type": "code",
   "execution_count": 121,
   "id": "54e20a48",
   "metadata": {},
   "outputs": [],
   "source": [
    "#square every digits\n",
    "def digit():\n",
    "    x = int(input(\"Enter a figure: \"))\n",
    "    #transforming the int into string\n",
    "    xstr = str(x)\n",
    "    \n",
    "    #include the string in a list\n",
    "    list_str = []\n",
    "    for i in xstr:\n",
    "        list_str.append(i)\n",
    "    \n",
    "    #convert the string into int\n",
    "    list_int=[]\n",
    "    for i in list_str:\n",
    "        list_int.append(int(i))\n",
    "    list_int\n",
    "    \n",
    "    #creating the list squared\n",
    "    squared_list=[]\n",
    "    for i in list_int:\n",
    "        squared_list.append(i*i)\n",
    "    \n",
    "    #transforming back to str to concatenate\n",
    "    squared_str=[]\n",
    "    for i in squared_list:\n",
    "        squared_str.append(str(i))\n",
    "     \n",
    "    joined_str=''.join(squared_str)\n",
    "    \n",
    "    #transform back the str into int\n",
    "    final_results = int(joined_str)\n",
    "    return final_results"
   ]
  },
  {
   "cell_type": "code",
   "execution_count": 122,
   "id": "3a8543d6",
   "metadata": {},
   "outputs": [
    {
     "name": "stdout",
     "output_type": "stream",
     "text": [
      "Enter a figure: 89043\n"
     ]
    },
    {
     "data": {
      "text/plain": [
       "64810169"
      ]
     },
     "execution_count": 122,
     "metadata": {},
     "output_type": "execute_result"
    }
   ],
   "source": [
    "digit()"
   ]
  },
  {
   "cell_type": "code",
   "execution_count": null,
   "id": "2d9f4b72",
   "metadata": {},
   "outputs": [],
   "source": []
  }
 ],
 "metadata": {
  "kernelspec": {
   "display_name": "Python 3 (ipykernel)",
   "language": "python",
   "name": "python3"
  },
  "language_info": {
   "codemirror_mode": {
    "name": "ipython",
    "version": 3
   },
   "file_extension": ".py",
   "mimetype": "text/x-python",
   "name": "python",
   "nbconvert_exporter": "python",
   "pygments_lexer": "ipython3",
   "version": "3.9.13"
  }
 },
 "nbformat": 4,
 "nbformat_minor": 5
}
